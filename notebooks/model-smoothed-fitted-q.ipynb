{
 "cells": [
  {
   "cell_type": "code",
   "execution_count": 1,
   "metadata": {
    "collapsed": true
   },
   "outputs": [],
   "source": [
    "import sys\n",
    "sys.path.append('/mnt/c/Users/Jesse/Desktop/glucose')\n",
    "sys.path.append('/mnt/c/Users/Jesse/Desktop/glucose/src')\n",
    "sys.path.append('/mnt/c/Users/Jesse/Desktop/glucose/src/policies')"
   ]
  },
  {
   "cell_type": "code",
   "execution_count": 2,
   "metadata": {
    "collapsed": true
   },
   "outputs": [],
   "source": [
    "from policies.policies import fitted_q, model_smoothed_fitted_q\n",
    "from Glucose import Glucose\n",
    "from transition_estimation import MultivariateLinear\n",
    "from sklearn.ensemble import RandomForestRegressor\n",
    "import numpy as np"
   ]
  },
  {
   "cell_type": "code",
   "execution_count": 3,
   "metadata": {
    "collapsed": true
   },
   "outputs": [],
   "source": [
    "env = Glucose(horizon=30)\n",
    "gamma = 0.9\n",
    "number_of_value_iterations = 1\n",
    "number_of_replicates = 30"
   ]
  },
  {
   "cell_type": "markdown",
   "metadata": {},
   "source": [
    "## Baseline"
   ]
  },
  {
   "cell_type": "code",
   "execution_count": 4,
   "metadata": {
    "collapsed": false
   },
   "outputs": [
    {
     "name": "stdout",
     "output_type": "stream",
     "text": [
      "mean score: -136.9889663848336 se: 18.081104181510334\n"
     ]
    }
   ],
   "source": [
    "scores = []\n",
    "for rep in range(number_of_replicates):\n",
    "    env.reset()\n",
    "    done = False\n",
    "    episode_score = 0.0\n",
    "    while not done:\n",
    "        action = np.random.binomial(1, 0.3)\n",
    "        _, r, done = env.step(action)\n",
    "        episode_score += r\n",
    "    scores.append(episode_score)\n",
    "print('mean score: {} se: {}'.format(np.mean(scores), np.std(scores) / np.sqrt(number_of_replicates)))"
   ]
  },
  {
   "cell_type": "markdown",
   "metadata": {},
   "source": [
    "## Vanilla fitted Q"
   ]
  },
  {
   "cell_type": "code",
   "execution_count": 5,
   "metadata": {
    "collapsed": false
   },
   "outputs": [
    {
     "name": "stdout",
     "output_type": "stream",
     "text": [
      "mean score: -59.64137765504188 se: 3.105193833989782\n"
     ]
    }
   ],
   "source": [
    "scores = []\n",
    "for rep in range(number_of_replicates):\n",
    "    env.reset()\n",
    "    done = False\n",
    "    episode_score = 0.0\n",
    "    while not done:\n",
    "        action = fitted_q(env, gamma, RandomForestRegressor, number_of_value_iterations=number_of_value_iterations)\n",
    "        _, r, done = env.step(action)\n",
    "        episode_score += r\n",
    "    scores.append(episode_score)\n",
    "print('mean score: {} se: {}'.format(np.mean(scores), np.std(scores) / np.sqrt(number_of_replicates)))"
   ]
  },
  {
   "cell_type": "markdown",
   "metadata": {},
   "source": [
    "## Fitted Q with model smoothing (using kde objective)"
   ]
  },
  {
   "cell_type": "code",
   "execution_count": 6,
   "metadata": {
    "collapsed": true
   },
   "outputs": [],
   "source": [
    "transition_model_fitter = MultivariateLinear"
   ]
  },
  {
   "cell_type": "code",
   "execution_count": 7,
   "metadata": {
    "collapsed": false
   },
   "outputs": [
    {
     "name": "stdout",
     "output_type": "stream",
     "text": [
      "mean score: -65.02223944339298 se: 4.180683509383638\n"
     ]
    }
   ],
   "source": [
    "scores = []\n",
    "for rep in range(number_of_replicates):\n",
    "    env.reset()\n",
    "    done = False\n",
    "    episode_score = 0.0\n",
    "    while not done:\n",
    "        action, pairwise_kernel_, kernel_sums = \\\n",
    "            model_smoothed_fitted_q(env, gamma, RandomForestRegressor, number_of_value_iterations, transition_model_fitter,\n",
    "                                    pairwise_kernels_=None, kernel_sums=None)\n",
    "        _, r, done = env.step(action)\n",
    "        episode_score += r\n",
    "    scores.append(episode_score)\n",
    "print('mean score: {} se: {}'.format(np.mean(scores), np.std(scores) / np.sqrt(number_of_replicates)))"
   ]
  },
  {
   "cell_type": "markdown",
   "metadata": {},
   "source": [
    "## Fitted Q with model smoothing (using estimated MSE-optimal combination)"
   ]
  },
  {
   "cell_type": "code",
   "execution_count": null,
   "metadata": {
    "collapsed": true
   },
   "outputs": [],
   "source": []
  }
 ],
 "metadata": {
  "anaconda-cloud": {},
  "kernelspec": {
   "display_name": "Python [anaconda3]",
   "language": "python",
   "name": "Python [anaconda3]"
  },
  "language_info": {
   "codemirror_mode": {
    "name": "ipython",
    "version": 3
   },
   "file_extension": ".py",
   "mimetype": "text/x-python",
   "name": "python",
   "nbconvert_exporter": "python",
   "pygments_lexer": "ipython3",
   "version": "3.5.2"
  }
 },
 "nbformat": 4,
 "nbformat_minor": 1
}

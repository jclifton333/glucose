{
 "cells": [
  {
   "cell_type": "code",
   "execution_count": 1,
   "metadata": {
    "collapsed": false
   },
   "outputs": [],
   "source": [
    "import sys\n",
    "sys.path.append('/mnt/c/Users/Jesse/Desktop/glucose')\n",
    "sys.path.append('/mnt/c/Users/Jesse/Desktop/glucose/src')\n",
    "sys.path.append('/mnt/c/Users/Jesse/Desktop/glucose/src/policies')"
   ]
  },
  {
   "cell_type": "code",
   "execution_count": 2,
   "metadata": {
    "collapsed": false
   },
   "outputs": [],
   "source": [
    "from policies.policies import fitted_q\n",
    "from Glucose import Glucose\n",
    "from sklearn.ensemble import RandomForestRegressor"
   ]
  },
  {
   "cell_type": "code",
   "execution_count": 3,
   "metadata": {
    "collapsed": true
   },
   "outputs": [],
   "source": [
    "env = Glucose(horizon=50)\n",
    "gamma = 0.9\n",
    "number_of_value_iterations = 1"
   ]
  },
  {
   "cell_type": "code",
   "execution_count": 4,
   "metadata": {
    "collapsed": false
   },
   "outputs": [],
   "source": [
    "done = False\n",
    "env.reset()\n",
    "while not done:\n",
    "    action = fitted_q(env, gamma, RandomForestRegressor, number_of_value_iterations=number_of_value_iterations)\n",
    "    _, r, done = env.step(action)"
   ]
  }
 ],
 "metadata": {
  "anaconda-cloud": {},
  "kernelspec": {
   "display_name": "Python [anaconda3]",
   "language": "python",
   "name": "Python [anaconda3]"
  },
  "language_info": {
   "codemirror_mode": {
    "name": "ipython",
    "version": 3
   },
   "file_extension": ".py",
   "mimetype": "text/x-python",
   "name": "python",
   "nbconvert_exporter": "python",
   "pygments_lexer": "ipython3",
   "version": "3.5.2"
  }
 },
 "nbformat": 4,
 "nbformat_minor": 0
}

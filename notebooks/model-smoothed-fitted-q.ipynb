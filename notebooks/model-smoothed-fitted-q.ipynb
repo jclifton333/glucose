{
 "cells": [
  {
   "cell_type": "code",
   "execution_count": 1,
   "metadata": {},
   "outputs": [],
   "source": [
    "import sys\n",
    "#sys.path.append('/mnt/c/Users/Jesse/Desktop/glucose')\n",
    "#sys.path.append('/mnt/c/Users/Jesse/Desktop/glucose/src')\n",
    "#sys.path.append('/mnt/c/Users/Jesse/Desktop/glucose/src/policies')\n",
    "sys.path.append('/users/jclih/glucose')\n",
    "sys.path.append('/users/jclih/glucose/src')\n",
    "sys.path.append('/users/jclih/glucose/policies')"
   ]
  },
  {
   "cell_type": "code",
   "execution_count": 2,
   "metadata": {},
   "outputs": [],
   "source": [
    "from policies.policies import model_smoothed_fitted_q\n",
    "from Glucose import Glucose\n",
    "from transition_estimation import MultivariateLinear\n",
    "from sklearn.ensemble import RandomForestRegressor\n",
    "import numpy as np"
   ]
  },
  {
   "cell_type": "code",
   "execution_count": 5,
   "metadata": {},
   "outputs": [],
   "source": [
    "env = Glucose(horizon=100)\n",
    "transition_model_fitter = MultivariateLinear\n",
    "gamma = 0.9\n",
    "number_of_value_iterations = 1"
   ]
  },
  {
   "cell_type": "code",
   "execution_count": null,
   "metadata": {},
   "outputs": [
    {
     "name": "stdout",
     "output_type": "stream",
     "text": [
      "k 0 alpha_mb 1.0\n",
      "k 0 alpha_mb 0.19780509935\n",
      "k 0 alpha_mb 0.697334207704\n",
      "k 0 alpha_mb 0.534223153088\n",
      "k 0 alpha_mb 0.544308442866\n",
      "k 0 alpha_mb 0.356007162818\n",
      "k 0 alpha_mb 0.328668565836\n",
      "k 0 alpha_mb 0.364727485761\n",
      "k 0 alpha_mb 0.280233658185\n",
      "k 0 alpha_mb 0.31461990545\n",
      "k 0 alpha_mb 0.246090084497\n",
      "k 0 alpha_mb 0.305849200952\n",
      "k 0 alpha_mb 0.29316329096\n",
      "k 0 alpha_mb 0.255319044423\n",
      "k 0 alpha_mb 0.235959250663\n",
      "k 0 alpha_mb 0.260415824411\n",
      "k 0 alpha_mb 0.270444896696\n",
      "k 0 alpha_mb 0.296222566372\n",
      "k 0 alpha_mb 0.282434263905\n",
      "k 0 alpha_mb 0.259925683881\n",
      "k 0 alpha_mb 0.257117142834\n",
      "k 0 alpha_mb 0.251238720529\n"
     ]
    }
   ],
   "source": [
    "done = False\n",
    "env.reset()\n",
    "while not done:\n",
    "    action, pairwise_kernel_, kernel_sums = \\\n",
    "        model_smoothed_fitted_q(env, gamma, RandomForestRegressor, number_of_value_iterations, transition_model_fitter,\n",
    "                                pairwise_kernels_=None, kernel_sums=None)\n",
    "    _, r, done = env.step(action)"
   ]
  }
 ],
 "metadata": {
  "anaconda-cloud": {},
  "kernelspec": {
   "display_name": "Python 2",
   "language": "python",
   "name": "python2"
  },
  "language_info": {
   "codemirror_mode": {
    "name": "ipython",
    "version": 2
   },
   "file_extension": ".py",
   "mimetype": "text/x-python",
   "name": "python",
   "nbconvert_exporter": "python",
   "pygments_lexer": "ipython2",
   "version": "2.7.14"
  }
 },
 "nbformat": 4,
 "nbformat_minor": 1
}

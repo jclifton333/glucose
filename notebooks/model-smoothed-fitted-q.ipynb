{
 "cells": [
  {
   "cell_type": "code",
   "execution_count": 1,
   "metadata": {
    "collapsed": false
   },
   "outputs": [],
   "source": [
    "import sys\n",
    "sys.path.append('/mnt/c/Users/Jesse/Desktop/glucose')\n",
    "sys.path.append('/mnt/c/Users/Jesse/Desktop/glucose/src')\n",
    "sys.path.append('/mnt/c/Users/Jesse/Desktop/glucose/src/policies')\n",
    "sys.path.append('/mnt/c/Users/Jesse/Desktop/glucose/src/policies/bellman_backup')"
   ]
  },
  {
   "cell_type": "code",
   "execution_count": 2,
   "metadata": {
    "collapsed": false
   },
   "outputs": [],
   "source": [
    "from policies.policies import fitted_q, model_smoothed_fitted_q\n",
    "from Glucose import Glucose\n",
    "from transition_estimation import MultivariateLinear\n",
    "from sklearn.ensemble import RandomForestRegressor\n",
    "import numpy as np"
   ]
  },
  {
   "cell_type": "code",
   "execution_count": 3,
   "metadata": {
    "collapsed": true
   },
   "outputs": [],
   "source": [
    "env = Glucose(horizon=30)\n",
    "gamma = 0.9\n",
    "number_of_value_iterations = 1\n",
    "number_of_replicates = 30"
   ]
  },
  {
   "cell_type": "code",
   "execution_count": null,
   "metadata": {
    "collapsed": true
   },
   "outputs": [],
   "source": [
    "transition_model_fitter = MultivariateLinear"
   ]
  },
  {
   "cell_type": "markdown",
   "metadata": {},
   "source": [
    "## Fitted Q with model smoothing (using estimated MSE-optimal combination)"
   ]
  },
  {
   "cell_type": "code",
   "execution_count": null,
   "metadata": {
    "collapsed": false
   },
   "outputs": [
    {
     "name": "stdout",
     "output_type": "stream",
     "text": [
      "alpha mb: 0.9986791621716873\n",
      "mb_variances: 0.1\n",
      "mb_biases: 0.0\n",
      "mf_variances: 75.5250770458675\n",
      " correlations: 0.0\n",
      "alpha mb: 0.5000774186627426\n",
      "mb_variances: 0.1\n",
      "mb_biases: 0.0\n",
      "mf_variances: 0.1\n",
      " correlations: 0.0\n",
      "alpha mb: 0.6382748023645735\n",
      "mb_variances: 17.037645331598444\n",
      "mb_biases: -0.37237272057281245\n",
      "mf_variances: 27.370022631773125\n",
      " correlations: 0.0\n",
      "alpha mb: 0.4286754319745115\n",
      "mb_variances: 0.18076222251493487\n",
      "mb_biases: 0.37237272057281157\n",
      "mf_variances: 0.13866144302679786\n",
      " correlations: 0.0\n",
      "alpha mb: 0.9965549420728075\n",
      "mb_variances: 0.1\n",
      "mb_biases: -0.8355575680870876\n",
      "mf_variances: 27.07522051781958\n",
      " correlations: 0.0\n",
      "alpha mb: 0.4774378134177554\n",
      "mb_variances: 0.7717569834330241\n",
      "mb_biases: 1.1039902707906843\n",
      "mf_variances: 0.7398712741275515\n",
      " correlations: 0.0\n",
      "alpha mb: 0.9921211108502933\n",
      "mb_variances: 0.1\n",
      "mb_biases: -1.0319112747057229\n",
      "mf_variances: 11.805462293515395\n",
      " correlations: 0.0\n",
      "alpha mb: 0.5323197275496588\n",
      "mb_variances: 1.0186159785597715\n",
      "mb_biases: 1.744745617294429\n",
      "mf_variances: 1.235666818545383\n",
      " correlations: 0.0\n",
      "alpha mb: 0.9894460092448375\n",
      "mb_variances: 0.1\n",
      "mb_biases: -1.0004260825752556\n",
      "mf_variances: 8.882099935680275\n",
      " correlations: 0.0\n"
     ]
    }
   ],
   "source": [
    "scores = []\n",
    "for rep in range(number_of_replicates):\n",
    "    env.reset()\n",
    "    done = False\n",
    "    episode_score = 0.0\n",
    "    while not done:\n",
    "        action, pairwise_kernel_, kernel_sums = \\\n",
    "            model_smoothed_fitted_q(env, gamma, RandomForestRegressor, number_of_value_iterations, transition_model_fitter,\n",
    "                                    pairwise_kernels_=None, kernel_sums=None, smoothing_method='mse')\n",
    "        _, r, done = env.step(action)\n",
    "        episode_score += r\n",
    "    scores.append(episode_score)\n",
    "    print('score: {}'.format(score))\n",
    "print('mean score: {} se: {}'.format(np.mean(scores), np.std(scores) / np.sqrt(number_of_replicates)))"
   ]
  },
  {
   "cell_type": "markdown",
   "metadata": {},
   "source": [
    "## Baseline"
   ]
  },
  {
   "cell_type": "code",
   "execution_count": 4,
   "metadata": {
    "collapsed": false
   },
   "outputs": [
    {
     "name": "stdout",
     "output_type": "stream",
     "text": [
      "mean score: -136.9889663848336 se: 18.081104181510334\n"
     ]
    }
   ],
   "source": [
    "scores = []\n",
    "for rep in range(number_of_replicates):\n",
    "    env.reset()\n",
    "    done = False\n",
    "    episode_score = 0.0\n",
    "    while not done:\n",
    "        action = np.random.binomial(1, 0.3)\n",
    "        _, r, done = env.step(action)\n",
    "        episode_score += r\n",
    "    scores.append(episode_score)\n",
    "print('mean score: {} se: {}'.format(np.mean(scores), np.std(scores) / np.sqrt(number_of_replicates)))"
   ]
  },
  {
   "cell_type": "markdown",
   "metadata": {},
   "source": [
    "## Vanilla fitted Q"
   ]
  },
  {
   "cell_type": "code",
   "execution_count": 5,
   "metadata": {
    "collapsed": false
   },
   "outputs": [
    {
     "name": "stdout",
     "output_type": "stream",
     "text": [
      "mean score: -59.64137765504188 se: 3.105193833989782\n"
     ]
    }
   ],
   "source": [
    "scores = []\n",
    "for rep in range(number_of_replicates):\n",
    "    env.reset()\n",
    "    done = False\n",
    "    episode_score = 0.0\n",
    "    while not done:\n",
    "        action = fitted_q(env, gamma, RandomForestRegressor, number_of_value_iterations=number_of_value_iterations)\n",
    "        _, r, done = env.step(action)\n",
    "        episode_score += r\n",
    "    scores.append(episode_score)\n",
    "print('mean score: {} se: {}'.format(np.mean(scores), np.std(scores) / np.sqrt(number_of_replicates)))"
   ]
  },
  {
   "cell_type": "markdown",
   "metadata": {},
   "source": [
    "## Fitted Q with model smoothing (using kde objective)"
   ]
  },
  {
   "cell_type": "code",
   "execution_count": 7,
   "metadata": {
    "collapsed": false
   },
   "outputs": [
    {
     "name": "stdout",
     "output_type": "stream",
     "text": [
      "mean score: -65.02223944339298 se: 4.180683509383638\n"
     ]
    }
   ],
   "source": [
    "scores = []\n",
    "for rep in range(number_of_replicates):\n",
    "    env.reset()\n",
    "    done = False\n",
    "    episode_score = 0.0\n",
    "    while not done:\n",
    "        action, pairwise_kernel_, kernel_sums = \\\n",
    "            model_smoothed_fitted_q(env, gamma, RandomForestRegressor, number_of_value_iterations, transition_model_fitter,\n",
    "                                    pairwise_kernels_=None, kernel_sums=None)\n",
    "        _, r, done = env.step(action)\n",
    "        episode_score += r\n",
    "    scores.append(episode_score)\n",
    "print('mean score: {} se: {}'.format(np.mean(scores), np.std(scores) / np.sqrt(number_of_replicates)))"
   ]
  }
 ],
 "metadata": {
  "anaconda-cloud": {},
  "kernelspec": {
   "display_name": "Python [anaconda3]",
   "language": "python",
   "name": "Python [anaconda3]"
  },
  "language_info": {
   "codemirror_mode": {
    "name": "ipython",
    "version": 3
   },
   "file_extension": ".py",
   "mimetype": "text/x-python",
   "name": "python",
   "nbconvert_exporter": "python",
   "pygments_lexer": "ipython3",
   "version": "3.5.2"
  }
 },
 "nbformat": 4,
 "nbformat_minor": 1
}

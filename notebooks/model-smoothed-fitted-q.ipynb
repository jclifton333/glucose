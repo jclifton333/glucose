{
 "cells": [
  {
   "cell_type": "code",
   "execution_count": 1,
   "metadata": {
    "collapsed": true
   },
   "outputs": [],
   "source": [
    "import sys\n",
    "sys.path.append('/mnt/c/Users/Jesse/Desktop/glucose')\n",
    "sys.path.append('/mnt/c/Users/Jesse/Desktop/glucose/src')\n",
    "sys.path.append('/mnt/c/Users/Jesse/Desktop/glucose/src/policies')"
   ]
  },
  {
   "cell_type": "code",
   "execution_count": 2,
   "metadata": {
    "collapsed": false
   },
   "outputs": [
    {
     "ename": "SyntaxError",
     "evalue": "invalid syntax (bellman_error_estimation.py, line 125)",
     "output_type": "error",
     "traceback": [
      "\u001b[1;36m  File \u001b[1;32m\"/mnt/c/Users/Jesse/Desktop/glucose/src/policies/bellman_error_estimation.py\"\u001b[1;36m, line \u001b[1;32m125\u001b[0m\n\u001b[1;33m    if not reward_only\u001b[0m\n\u001b[1;37m                      ^\u001b[0m\n\u001b[1;31mSyntaxError\u001b[0m\u001b[1;31m:\u001b[0m invalid syntax\n"
     ]
    }
   ],
   "source": [
    "from policies.policies import model_smoothed_fitted_q\n",
    "from Glucose import Glucose\n",
    "from transition_estimation import MultivariateLinear\n",
    "from sklearn.ensemble import RandomForestRegressor"
   ]
  },
  {
   "cell_type": "code",
   "execution_count": null,
   "metadata": {
    "collapsed": true
   },
   "outputs": [],
   "source": [
    "env = Glucose(horizon=50)\n",
    "transition_model_fitter = MultivariateLinear\n",
    "pairwise_kernels_ = np.zeros((0,0))\n",
    "kernel_sums = 0 \n",
    "gamma = 0.9\n",
    "number_of_value_iterations = 1"
   ]
  },
  {
   "cell_type": "code",
   "execution_count": null,
   "metadata": {
    "collapsed": true
   },
   "outputs": [],
   "source": [
    "done = False\n",
    "env.reset()\n",
    "while not done:\n",
    "    action, pairwise_kernel_, kernel_sums = \\\n",
    "        model_smoothed_fitted_q(env, gamma, RandomForestRegressor, number_of_value_iterations, transition_model_fitter,\n",
    "                                pairwise_kernels_, kernel_sums)\n",
    "    _, r, done = env.step(action)"
   ]
  }
 ],
 "metadata": {
  "anaconda-cloud": {},
  "kernelspec": {
   "display_name": "Python [anaconda3]",
   "language": "python",
   "name": "Python [anaconda3]"
  },
  "language_info": {
   "codemirror_mode": {
    "name": "ipython",
    "version": 3
   },
   "file_extension": ".py",
   "mimetype": "text/x-python",
   "name": "python",
   "nbconvert_exporter": "python",
   "pygments_lexer": "ipython3",
   "version": "3.5.2"
  }
 },
 "nbformat": 4,
 "nbformat_minor": 0
}

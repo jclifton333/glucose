{
 "cells": [
  {
   "cell_type": "code",
   "execution_count": 12,
   "metadata": {
    "collapsed": false
   },
   "outputs": [
    {
     "name": "stdout",
     "output_type": "stream",
     "text": [
      "['', '/mnt/c/Users/Jesse/gym', '/mnt/c/Users/Jesse/Anaconda3-64/PyGame-Learning-Environment', '/home/jclifto/anaconda3/lib/python35.zip', '/home/jclifto/anaconda3/lib/python3.5', '/home/jclifto/anaconda3/lib/python3.5/plat-linux', '/home/jclifto/anaconda3/lib/python3.5/lib-dynload', '/home/jclifto/.local/lib/python3.5/site-packages', '/home/jclifto/anaconda3/lib/python3.5/site-packages', '/home/jclifto/anaconda3/lib/python3.5/site-packages/Sphinx-1.4.1-py3.5.egg', '/home/jclifto/anaconda3/lib/python3.5/site-packages/setuptools-23.0.0-py3.5.egg', '/home/jclifto/anaconda3/lib/python3.5/site-packages/IPython/extensions', '/home/jclifto/.ipython', '..', '../src/', '../src/policies/', '..', '../src/', '../src/policies/', '/mnt/c/Users/Jesse/Desktop/glucose', '../src/', '../src/policies/', '/mnt/c/Users/Jesse/Desktop/glucose/src', '/mnt/c/Users/Jesse/Desktop/glucose/src', '/mnt/c/Users/Jesse/Desktop/glucose', '/mnt/c/Users/Jesse/Desktop/glucose/src', '/mnt/c/Users/Jesse/Desktop/glucose/', '/mnt/c/Users/Jesse/Desktop/glucose/src', '/mnt/c/Users/Jesse/Desktop/glucose/', '/mnt/c/Users/Jesse/Desktop/glucose/src', '/mnt/c/Users/Jesse/Desktop/glucose/', '/mnt/c/Users/Jesse/Desktop/glucose/src', '/mnt/c/Users/Jesse/Desktop/glucose/src/policies', '/mnt/c/Users/Jesse/Desktop/glucose/', '/mnt/c/Users/Jesse/Desktop/glucose/src/', '/mnt/c/Users/Jesse/Desktop/glucose/src/policies', '/mnt/c/Users/Jesse/Desktop/glucose/', '/mnt/c/Users/Jesse/Desktop/glucose/src/', '/mnt/c/Users/Jesse/Desktop/glucose/src/policies', '/mnt/c/Users/Jesse/Desktop/glucose', '/mnt/c/Users/Jesse/Desktop/glucose/src', '/mnt/c/Users/Jesse/Desktop/glucose/src/policies']\n"
     ]
    },
    {
     "ename": "ImportError",
     "evalue": "cannot import name 'fitted_q'",
     "output_type": "error",
     "traceback": [
      "\u001b[1;31m---------------------------------------------------------------------------\u001b[0m",
      "\u001b[1;31mImportError\u001b[0m                               Traceback (most recent call last)",
      "\u001b[1;32m<ipython-input-12-fe3d833bd5ed>\u001b[0m in \u001b[0;36m<module>\u001b[1;34m()\u001b[0m\n\u001b[0;32m      4\u001b[0m \u001b[0msys\u001b[0m\u001b[1;33m.\u001b[0m\u001b[0mpath\u001b[0m\u001b[1;33m.\u001b[0m\u001b[0mappend\u001b[0m\u001b[1;33m(\u001b[0m\u001b[1;34m'/mnt/c/Users/Jesse/Desktop/glucose/src/policies'\u001b[0m\u001b[1;33m)\u001b[0m\u001b[1;33m\u001b[0m\u001b[0m\n\u001b[0;32m      5\u001b[0m \u001b[0mprint\u001b[0m\u001b[1;33m(\u001b[0m\u001b[0msys\u001b[0m\u001b[1;33m.\u001b[0m\u001b[0mpath\u001b[0m\u001b[1;33m)\u001b[0m\u001b[1;33m\u001b[0m\u001b[0m\n\u001b[1;32m----> 6\u001b[1;33m \u001b[1;32mfrom\u001b[0m \u001b[0mpolicies\u001b[0m \u001b[1;32mimport\u001b[0m \u001b[0mfitted_q\u001b[0m\u001b[1;33m\u001b[0m\u001b[0m\n\u001b[0m\u001b[0;32m      7\u001b[0m \u001b[1;32mfrom\u001b[0m \u001b[0mGlucose\u001b[0m \u001b[1;32mimport\u001b[0m \u001b[0mGlucose\u001b[0m\u001b[1;33m\u001b[0m\u001b[0m\n",
      "\u001b[1;31mImportError\u001b[0m: cannot import name 'fitted_q'"
     ]
    }
   ],
   "source": [
    "import sys\n",
    "sys.path.append('/mnt/c/Users/Jesse/Desktop/glucose')\n",
    "sys.path.append('/mnt/c/Users/Jesse/Desktop/glucose/src')\n",
    "sys.path.append('/mnt/c/Users/Jesse/Desktop/glucose/src/policies')\n"
   ]
  },
  {
   "cell_type": "code",
   "execution_count": 13,
   "metadata": {
    "collapsed": false
   },
   "outputs": [
    {
     "ename": "ImportError",
     "evalue": "cannot import name 'fitted_q'",
     "output_type": "error",
     "traceback": [
      "\u001b[1;31m---------------------------------------------------------------------------\u001b[0m",
      "\u001b[1;31mImportError\u001b[0m                               Traceback (most recent call last)",
      "\u001b[1;32m<ipython-input-13-f6d7c1e960ca>\u001b[0m in \u001b[0;36m<module>\u001b[1;34m()\u001b[0m\n\u001b[1;32m----> 1\u001b[1;33m \u001b[1;32mfrom\u001b[0m \u001b[0mpolicies\u001b[0m \u001b[1;32mimport\u001b[0m \u001b[0mfitted_q\u001b[0m\u001b[1;33m\u001b[0m\u001b[0m\n\u001b[0m\u001b[0;32m      2\u001b[0m \u001b[1;32mfrom\u001b[0m \u001b[0mGlucose\u001b[0m \u001b[1;32mimport\u001b[0m \u001b[0mGlucose\u001b[0m\u001b[1;33m\u001b[0m\u001b[0m\n",
      "\u001b[1;31mImportError\u001b[0m: cannot import name 'fitted_q'"
     ]
    }
   ],
   "source": [
    "from policies import fitted_q\n",
    "from Glucose import Glucose"
   ]
  },
  {
   "cell_type": "code",
   "execution_count": null,
   "metadata": {
    "collapsed": true
   },
   "outputs": [],
   "source": []
  }
 ],
 "metadata": {
  "anaconda-cloud": {},
  "kernelspec": {
   "display_name": "Python [anaconda3]",
   "language": "python",
   "name": "Python [anaconda3]"
  },
  "language_info": {
   "codemirror_mode": {
    "name": "ipython",
    "version": 3
   },
   "file_extension": ".py",
   "mimetype": "text/x-python",
   "name": "python",
   "nbconvert_exporter": "python",
   "pygments_lexer": "ipython3",
   "version": "3.5.2"
  }
 },
 "nbformat": 4,
 "nbformat_minor": 0
}

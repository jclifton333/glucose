{
 "cells": [
  {
   "cell_type": "code",
   "execution_count": 1,
   "metadata": {},
   "outputs": [],
   "source": [
    "import sys\n",
    "#sys.path.append('/mnt/c/Users/Jesse/Desktop/glucose')\n",
    "#sys.path.append('/mnt/c/Users/Jesse/Desktop/glucose/src')\n",
    "#sys.path.append('/mnt/c/Users/Jesse/Desktop/glucose/src/policies')\n",
    "sys.path.append('/users/jclih/glucose')\n",
    "sys.path.append('/users/jclih/glucose/src')\n",
    "sys.path.append('/users/jclih/glucose/policies')"
   ]
  },
  {
   "cell_type": "code",
   "execution_count": 2,
   "metadata": {},
   "outputs": [],
   "source": [
    "from policies.policies import model_smoothed_fitted_q\n",
    "from Glucose import Glucose\n",
    "from transition_estimation import MultivariateLinear\n",
    "from sklearn.ensemble import RandomForestRegressor\n",
    "from sklearn.metrics.pairwise import pairwise_kernels, rbf_kernel\n",
    "import numpy as np"
   ]
  },
  {
   "cell_type": "code",
   "execution_count": null,
   "metadata": {},
   "outputs": [],
   "source": [
    "env = Glucose(horizon=50)\n",
    "transition_model_fitter = MultivariateLinear\n",
    "gamma = 0.9\n",
    "number_of_value_iterations = 1"
   ]
  },
  {
   "cell_type": "code",
   "execution_count": null,
   "metadata": {},
   "outputs": [
    {
     "name": "stdout",
     "output_type": "stream",
     "text": [
      "> /users/jclih/glucose/src/policies/helpers.py(82)update_pairwise_kernels_()\n",
      "-> pairwise_kernels_[-1, :] = new_row\n",
      "(Pdb) new_row\n",
      "array([[1.],\n",
      "       [1.]])\n"
     ]
    }
   ],
   "source": [
    "done = False\n",
    "env.reset()\n",
    "pairwise_kernels_ = pairwise_kernels(np.vstack(env.X), metric='rbf')\n",
    "kernel_sums = np.sum(pairwise_kernels_, axis=0)\n",
    "pairwise_kernels = np.multiply(pairwise_kernels_, 1 / kernel_sums)\n",
    "while not done:\n",
    "    action, pairwise_kernel_, kernel_sums = \\\n",
    "        model_smoothed_fitted_q(env, gamma, RandomForestRegressor, number_of_value_iterations, transition_model_fitter,\n",
    "                                pairwise_kernels_, kernel_sums)\n",
    "    _, r, done = env.step(action)"
   ]
  }
 ],
 "metadata": {
  "anaconda-cloud": {},
  "kernelspec": {
   "display_name": "Python 2",
   "language": "python",
   "name": "python2"
  },
  "language_info": {
   "codemirror_mode": {
    "name": "ipython",
    "version": 2
   },
   "file_extension": ".py",
   "mimetype": "text/x-python",
   "name": "python",
   "nbconvert_exporter": "python",
   "pygments_lexer": "ipython2",
   "version": "2.7.14"
  }
 },
 "nbformat": 4,
 "nbformat_minor": 1
}

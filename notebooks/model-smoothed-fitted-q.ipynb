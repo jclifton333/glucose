{
 "cells": [
  {
   "cell_type": "code",
   "execution_count": 1,
   "metadata": {
    "collapsed": true
   },
   "outputs": [],
   "source": [
    "import sys\n",
    "sys.path.append('/mnt/c/Users/Jesse/Desktop/glucose')\n",
    "sys.path.append('/mnt/c/Users/Jesse/Desktop/glucose/src')\n",
    "sys.path.append('/mnt/c/Users/Jesse/Desktop/glucose/src/policies')"
   ]
  },
  {
   "cell_type": "code",
   "execution_count": 2,
   "metadata": {
    "collapsed": true
   },
   "outputs": [],
   "source": [
    "from policies.policies import fitted_q, model_smoothed_fitted_q\n",
    "from Glucose import Glucose\n",
    "from transition_estimation import MultivariateLinear\n",
    "from sklearn.ensemble import RandomForestRegressor\n",
    "import numpy as np"
   ]
  },
  {
   "cell_type": "code",
   "execution_count": 3,
   "metadata": {
    "collapsed": true
   },
   "outputs": [],
   "source": [
    "env = Glucose(horizon=30)\n",
    "gamma = 0.9\n",
    "number_of_value_iterations = 1\n",
    "number_of_replicates = 30"
   ]
  },
  {
   "cell_type": "code",
   "execution_count": 4,
   "metadata": {
    "collapsed": true
   },
   "outputs": [],
   "source": [
    "transition_model_fitter = MultivariateLinear"
   ]
  },
  {
   "cell_type": "markdown",
   "metadata": {},
   "source": [
    "## Fitted Q with model smoothing (using estimated MSE-optimal combination)"
   ]
  },
  {
   "cell_type": "code",
   "execution_count": 5,
   "metadata": {
    "collapsed": false
   },
   "outputs": [
    {
     "ename": "TypeError",
     "evalue": "model_smoothed_backup_using_mse() missing 1 required positional argument: 'pairwise_kernels_'",
     "output_type": "error",
     "traceback": [
      "\u001b[1;31m---------------------------------------------------------------------------\u001b[0m",
      "\u001b[1;31mTypeError\u001b[0m                                 Traceback (most recent call last)",
      "\u001b[1;32m<ipython-input-5-101f291bc76c>\u001b[0m in \u001b[0;36m<module>\u001b[1;34m()\u001b[0m\n\u001b[0;32m      6\u001b[0m     \u001b[1;32mwhile\u001b[0m \u001b[1;32mnot\u001b[0m \u001b[0mdone\u001b[0m\u001b[1;33m:\u001b[0m\u001b[1;33m\u001b[0m\u001b[0m\n\u001b[0;32m      7\u001b[0m         action, pairwise_kernel_, kernel_sums =             model_smoothed_fitted_q(env, gamma, RandomForestRegressor, number_of_value_iterations, transition_model_fitter,\n\u001b[1;32m----> 8\u001b[1;33m                                     pairwise_kernels_=None, kernel_sums=None, smoothing_method='mse')\n\u001b[0m\u001b[0;32m      9\u001b[0m         \u001b[0m_\u001b[0m\u001b[1;33m,\u001b[0m \u001b[0mr\u001b[0m\u001b[1;33m,\u001b[0m \u001b[0mdone\u001b[0m \u001b[1;33m=\u001b[0m \u001b[0menv\u001b[0m\u001b[1;33m.\u001b[0m\u001b[0mstep\u001b[0m\u001b[1;33m(\u001b[0m\u001b[0maction\u001b[0m\u001b[1;33m)\u001b[0m\u001b[1;33m\u001b[0m\u001b[0m\n\u001b[0;32m     10\u001b[0m         \u001b[0mepisode_score\u001b[0m \u001b[1;33m+=\u001b[0m \u001b[0mr\u001b[0m\u001b[1;33m\u001b[0m\u001b[0m\n",
      "\u001b[1;32m/mnt/c/Users/Jesse/Desktop/glucose/src/policies/policies.py\u001b[0m in \u001b[0;36mmodel_smoothed_fitted_q\u001b[1;34m(env, gamma, regressor, number_of_value_iterations, transition_model_fitter, pairwise_kernels_, kernel_sums, kernel, smoothing_method)\u001b[0m\n\u001b[0;32m     70\u001b[0m   averaged_backup, mb_backup, mf_backup, kde_backup = be.model_smoothed_reward(env, transition_model,\n\u001b[0;32m     71\u001b[0m                                                                                \u001b[0mpairwise_kernels_\u001b[0m\u001b[1;33m,\u001b[0m\u001b[1;33m\u001b[0m\u001b[0m\n\u001b[1;32m---> 72\u001b[1;33m                                                                                method=smoothing_method)\n\u001b[0m\u001b[0;32m     73\u001b[0m \u001b[1;33m\u001b[0m\u001b[0m\n\u001b[0;32m     74\u001b[0m   \u001b[1;31m# Fit one-step q fn\u001b[0m\u001b[1;33m\u001b[0m\u001b[1;33m\u001b[0m\u001b[0m\n",
      "\u001b[1;32m/mnt/c/Users/Jesse/Desktop/glucose/src/policies/bellman_error_estimation.py\u001b[0m in \u001b[0;36mmodel_smoothed_reward\u001b[1;34m(env, transition_model, pairwise_kernels_, method, number_of_bootstrap_samples)\u001b[0m\n\u001b[0;32m    283\u001b[0m     alpha_mb, alpha_mf = model_smoothed_backup_using_mse(r_mb, r_mf, None, env, None, X, Sp1, transition_model,\n\u001b[0;32m    284\u001b[0m                                                          \u001b[0mpairwise_kernels_\u001b[0m\u001b[1;33m,\u001b[0m \u001b[0mreward_only\u001b[0m\u001b[1;33m=\u001b[0m\u001b[1;32mTrue\u001b[0m\u001b[1;33m,\u001b[0m\u001b[1;33m\u001b[0m\u001b[0m\n\u001b[1;32m--> 285\u001b[1;33m                                                          number_of_bootstrap_samples=number_of_bootstrap_samples)\n\u001b[0m\u001b[0;32m    286\u001b[0m     \u001b[0mr_kde\u001b[0m \u001b[1;33m=\u001b[0m \u001b[1;32mNone\u001b[0m\u001b[1;33m\u001b[0m\u001b[0m\n\u001b[0;32m    287\u001b[0m   \u001b[1;32mreturn\u001b[0m \u001b[0malpha_mb\u001b[0m\u001b[1;33m*\u001b[0m\u001b[0mr_mb\u001b[0m \u001b[1;33m+\u001b[0m \u001b[0malpha_mf\u001b[0m\u001b[1;33m*\u001b[0m\u001b[0mr_mf\u001b[0m\u001b[1;33m,\u001b[0m \u001b[0mr_mb\u001b[0m\u001b[1;33m,\u001b[0m \u001b[0mr_mf\u001b[0m\u001b[1;33m,\u001b[0m \u001b[0mr_kde\u001b[0m\u001b[1;33m\u001b[0m\u001b[0m\n",
      "\u001b[1;31mTypeError\u001b[0m: model_smoothed_backup_using_mse() missing 1 required positional argument: 'pairwise_kernels_'"
     ]
    }
   ],
   "source": [
    "scores = []\n",
    "for rep in range(number_of_replicates):\n",
    "    env.reset()\n",
    "    done = False\n",
    "    episode_score = 0.0\n",
    "    while not done:\n",
    "        action, pairwise_kernel_, kernel_sums = \\\n",
    "            model_smoothed_fitted_q(env, gamma, RandomForestRegressor, number_of_value_iterations, transition_model_fitter,\n",
    "                                    pairwise_kernels_=None, kernel_sums=None, smoothing_method='mse')\n",
    "        _, r, done = env.step(action)\n",
    "        episode_score += r\n",
    "    scores.append(episode_score)\n",
    "print('mean score: {} se: {}'.format(np.mean(scores), np.std(scores) / np.sqrt(number_of_replicates)))"
   ]
  },
  {
   "cell_type": "markdown",
   "metadata": {},
   "source": [
    "## Baseline"
   ]
  },
  {
   "cell_type": "code",
   "execution_count": 4,
   "metadata": {
    "collapsed": false
   },
   "outputs": [
    {
     "name": "stdout",
     "output_type": "stream",
     "text": [
      "mean score: -136.9889663848336 se: 18.081104181510334\n"
     ]
    }
   ],
   "source": [
    "scores = []\n",
    "for rep in range(number_of_replicates):\n",
    "    env.reset()\n",
    "    done = False\n",
    "    episode_score = 0.0\n",
    "    while not done:\n",
    "        action = np.random.binomial(1, 0.3)\n",
    "        _, r, done = env.step(action)\n",
    "        episode_score += r\n",
    "    scores.append(episode_score)\n",
    "print('mean score: {} se: {}'.format(np.mean(scores), np.std(scores) / np.sqrt(number_of_replicates)))"
   ]
  },
  {
   "cell_type": "markdown",
   "metadata": {},
   "source": [
    "## Vanilla fitted Q"
   ]
  },
  {
   "cell_type": "code",
   "execution_count": 5,
   "metadata": {
    "collapsed": false
   },
   "outputs": [
    {
     "name": "stdout",
     "output_type": "stream",
     "text": [
      "mean score: -59.64137765504188 se: 3.105193833989782\n"
     ]
    }
   ],
   "source": [
    "scores = []\n",
    "for rep in range(number_of_replicates):\n",
    "    env.reset()\n",
    "    done = False\n",
    "    episode_score = 0.0\n",
    "    while not done:\n",
    "        action = fitted_q(env, gamma, RandomForestRegressor, number_of_value_iterations=number_of_value_iterations)\n",
    "        _, r, done = env.step(action)\n",
    "        episode_score += r\n",
    "    scores.append(episode_score)\n",
    "print('mean score: {} se: {}'.format(np.mean(scores), np.std(scores) / np.sqrt(number_of_replicates)))"
   ]
  },
  {
   "cell_type": "markdown",
   "metadata": {},
   "source": [
    "## Fitted Q with model smoothing (using kde objective)"
   ]
  },
  {
   "cell_type": "code",
   "execution_count": 7,
   "metadata": {
    "collapsed": false
   },
   "outputs": [
    {
     "name": "stdout",
     "output_type": "stream",
     "text": [
      "mean score: -65.02223944339298 se: 4.180683509383638\n"
     ]
    }
   ],
   "source": [
    "scores = []\n",
    "for rep in range(number_of_replicates):\n",
    "    env.reset()\n",
    "    done = False\n",
    "    episode_score = 0.0\n",
    "    while not done:\n",
    "        action, pairwise_kernel_, kernel_sums = \\\n",
    "            model_smoothed_fitted_q(env, gamma, RandomForestRegressor, number_of_value_iterations, transition_model_fitter,\n",
    "                                    pairwise_kernels_=None, kernel_sums=None)\n",
    "        _, r, done = env.step(action)\n",
    "        episode_score += r\n",
    "    scores.append(episode_score)\n",
    "print('mean score: {} se: {}'.format(np.mean(scores), np.std(scores) / np.sqrt(number_of_replicates)))"
   ]
  }
 ],
 "metadata": {
  "anaconda-cloud": {},
  "kernelspec": {
   "display_name": "Python [anaconda3]",
   "language": "python",
   "name": "Python [anaconda3]"
  },
  "language_info": {
   "codemirror_mode": {
    "name": "ipython",
    "version": 3
   },
   "file_extension": ".py",
   "mimetype": "text/x-python",
   "name": "python",
   "nbconvert_exporter": "python",
   "pygments_lexer": "ipython3",
   "version": "3.5.2"
  }
 },
 "nbformat": 4,
 "nbformat_minor": 1
}

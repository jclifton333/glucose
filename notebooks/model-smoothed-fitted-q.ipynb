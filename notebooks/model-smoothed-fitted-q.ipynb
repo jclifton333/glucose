{
 "cells": [
  {
   "cell_type": "code",
   "execution_count": 1,
   "metadata": {},
   "outputs": [],
   "source": [
    "import sys\n",
    "#sys.path.append('/mnt/c/Users/Jesse/Desktop/glucose')\n",
    "#sys.path.append('/mnt/c/Users/Jesse/Desktop/glucose/src')\n",
    "#sys.path.append('/mnt/c/Users/Jesse/Desktop/glucose/src/policies')\n",
    "sys.path.append('/users/jclih/glucose')\n",
    "sys.path.append('/users/jclih/glucose/src')\n",
    "sys.path.append('/users/jclih/glucose/policies')"
   ]
  },
  {
   "cell_type": "code",
   "execution_count": 2,
   "metadata": {},
   "outputs": [],
   "source": [
    "from policies.policies import model_smoothed_fitted_q\n",
    "from Glucose import Glucose\n",
    "from transition_estimation import MultivariateLinear\n",
    "from sklearn.ensemble import RandomForestRegressor\n",
    "import numpy as np"
   ]
  },
  {
   "cell_type": "code",
   "execution_count": null,
   "metadata": {},
   "outputs": [],
   "source": [
    "env = Glucose(horizon=50)\n",
    "transition_model_fitter = MultivariateLinear\n",
    "gamma = 0.9\n",
    "number_of_value_iterations = 1"
   ]
  },
  {
   "cell_type": "code",
   "execution_count": null,
   "metadata": {},
   "outputs": [
    {
     "name": "stderr",
     "output_type": "stream",
     "text": [
      "/users/jclih/glucose/src/transition_estimation.py:212: RuntimeWarning: covariance is not positive-semidefinite.\n",
      "  y_simulated = np.random.multivariate_normal(mean, cov=self.sigma_hat)\n",
      "/users/jclih/glucose/src/transition_estimation.py:172: RuntimeWarning: divide by zero encountered in divide\n",
      "  self.sigma_hat = np.cov(errors_array.T) / (n - p)\n"
     ]
    },
    {
     "name": "stdout",
     "output_type": "stream",
     "text": [
      "> /users/jclih/glucose/src/transition_estimation.py(223)simulate_from_fit_model_at_block()\n",
      "-> Sp1.append(sp1), Xp1.append(xp1)\n",
      "(Pdb) sp1\n",
      "*** NameError: name 'sp1' is not defined\n",
      "(Pdb) print(x)\n",
      "[  1.         231.61125305  -0.           4.20477625 231.61125305\n",
      "  -0.           4.20477625   0.           0.        ]\n",
      "(Pdb) self.sigma_hat\n",
      "array([[ inf, -inf,  inf],\n",
      "       [-inf,  inf, -inf],\n",
      "       [ inf, -inf,  inf]])\n"
     ]
    }
   ],
   "source": [
    "done = False\n",
    "env.reset()\n",
    "while not done:\n",
    "    action, pairwise_kernel_, kernel_sums = \\\n",
    "        model_smoothed_fitted_q(env, gamma, RandomForestRegressor, number_of_value_iterations, transition_model_fitter,\n",
    "                                pairwise_kernels_=None, kernel_sums=None)\n",
    "    _, r, done = env.step(action)"
   ]
  }
 ],
 "metadata": {
  "anaconda-cloud": {},
  "kernelspec": {
   "display_name": "Python 2",
   "language": "python",
   "name": "python2"
  },
  "language_info": {
   "codemirror_mode": {
    "name": "ipython",
    "version": 2
   },
   "file_extension": ".py",
   "mimetype": "text/x-python",
   "name": "python",
   "nbconvert_exporter": "python",
   "pygments_lexer": "ipython2",
   "version": "2.7.14"
  }
 },
 "nbformat": 4,
 "nbformat_minor": 1
}
